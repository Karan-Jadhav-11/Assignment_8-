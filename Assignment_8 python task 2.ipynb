{
 "cells": [
  {
   "cell_type": "markdown",
   "id": "ea611c80-e1e2-4353-ba7b-cdaff84ba826",
   "metadata": {},
   "source": [
    "# Assignment : 8  ptthan task 2"
   ]
  },
  {
   "cell_type": "markdown",
   "id": "9723a7cf-45c8-4f49-83ef-9c08602533c6",
   "metadata": {},
   "source": [
    "### Q1. You are writing code for a company. The requirement of the company is that you create a python function that will check whether the password entered by the user is correct or not. The function should take the password as input and return the string “Valid Password” if the entered password follows the below-given password guidelines else it should return “Invalid Password”.\n",
    "#### Note: 1. The Password should contain at least two uppercase letters and at least two lowercase letters. \n",
    "#### 2. The Password should contain at least a number and three special characters. \n",
    "#### 3. The length of the password should be 10 characters long."
   ]
  },
  {
   "cell_type": "code",
   "execution_count": 12,
   "id": "1f5ac532-e3af-4935-924e-0b92fa1e775c",
   "metadata": {},
   "outputs": [],
   "source": [
    "def validate_password(password):\n",
    "    if len(password) != 10:\n",
    "        return \"Invalid Password\"\n",
    "    \n",
    "    count_upper, count_lower, count_digit, count_special = 0, 0, 0, 0\n",
    "    for char in password:\n",
    "        if char.isupper():\n",
    "            count_upper += 1\n",
    "        elif char.islower():\n",
    "            count_lower += 1\n",
    "        elif char.isdigit():\n",
    "            count_digit += 1\n",
    "        elif char in \"!@#$%^&*()-+\":\n",
    "            count_special += 1\n",
    "\n",
    "    if count_upper < 2 or count_lower < 2 or count_digit < 1 or count_special < 1:\n",
    "        return \"Invalid Password\"\n",
    "    \n",
    "    return \"Valid Password\"\n"
   ]
  },
  {
   "cell_type": "code",
   "execution_count": 13,
   "id": "82e2497d-7b14-4957-82f0-ef2848cd4e67",
   "metadata": {},
   "outputs": [
    {
     "name": "stdout",
     "output_type": "stream",
     "text": [
      "Invalid Password\n",
      "Valid Password\n"
     ]
    }
   ],
   "source": [
    "print(validate_password(\"Kbcde$1234\"))  # Invalid Password\n",
    "print(validate_password(\"AbCde@12F4\"))  # Valid Password\n"
   ]
  },
  {
   "cell_type": "code",
   "execution_count": null,
   "id": "3d62e2de-4062-4115-94a8-1bac70057b62",
   "metadata": {},
   "outputs": [],
   "source": []
  },
  {
   "cell_type": "code",
   "execution_count": null,
   "id": "71e5a30d-f230-49dd-8d59-e0ea8b0812ae",
   "metadata": {},
   "outputs": [],
   "source": []
  },
  {
   "cell_type": "markdown",
   "id": "aeedf769-adf6-4943-95e3-e0807260cbfd",
   "metadata": {},
   "source": [
    "### Q2. Solve the below-given questions using at least one of the following:\n",
    "#### 1. Lambda function\n",
    "#### 2. Filter function\n",
    "#### 3. Zap function\n",
    "#### 4. List Comprehension\n",
    "\n",
    "\n",
    "#### 1. Check if the string starts with a particular letter.\n",
    "#### 2. Check if the string is numeric.\n",
    "#### 3. Sort a list of tuples having fruit names and their quantity. [(\"mango\",99),(\"orange\",80), (\"grapes\", 1000)-\n",
    "#### 4. Find the squares of numbers from 1 to 10.\n",
    "#### 5. Find the cube root of numbers from 1 to 10.\n",
    "#### 6. Check if a given number is even.\n",
    "#### 7. Filter odd numbers from the given list. [1,2,3,4,5,6,7,8,9,10]\n",
    "#### 8 Sort a list of integers into positive and negative integers lists. [1,2,3,4,5,6,-1,-2,-3,-4,-5,0]"
   ]
  },
  {
   "cell_type": "code",
   "execution_count": null,
   "id": "c0414800-ca10-4982-afdb-9c6f2fbfae5d",
   "metadata": {},
   "outputs": [],
   "source": [
    "# Check if the string starts with a particular letter.\n",
    "s = str(input(\"Enter a string :\"))\n",
    "s1 = map(lambda x : True if i[0] =='I' else False , s)"
   ]
  },
  {
   "cell_type": "code",
   "execution_count": 9,
   "id": "fd0ca67f-aeb2-41cc-8f03-0486893e9728",
   "metadata": {},
   "outputs": [
    {
     "data": {
      "text/plain": [
       "<filter at 0x7fe96c17c5e0>"
      ]
     },
     "execution_count": 9,
     "metadata": {},
     "output_type": "execute_result"
    }
   ],
   "source": [
    "s1"
   ]
  },
  {
   "cell_type": "code",
   "execution_count": null,
   "id": "33932846-65bd-472a-87f9-865073f9c51f",
   "metadata": {},
   "outputs": [],
   "source": [
    "# Check if the string starts with a particular letter:"
   ]
  },
  {
   "cell_type": "code",
   "execution_count": 14,
   "id": "51e06ab2-702e-4017-8df1-bce490266b53",
   "metadata": {},
   "outputs": [
    {
     "name": "stdout",
     "output_type": "stream",
     "text": [
      "True\n"
     ]
    }
   ],
   "source": [
    "starts_with_a = lambda s: s.startswith('a')\n",
    "print(starts_with_a(\"apple\"))  # True"
   ]
  },
  {
   "cell_type": "code",
   "execution_count": null,
   "id": "8b4f41ce-8c3f-4c41-9f6a-ce7031b317ee",
   "metadata": {},
   "outputs": [],
   "source": [
    "# Check if the string is numeric:"
   ]
  },
  {
   "cell_type": "code",
   "execution_count": 15,
   "id": "9e757939-9a32-402f-a4c2-074936edebda",
   "metadata": {},
   "outputs": [
    {
     "name": "stdout",
     "output_type": "stream",
     "text": [
      "True\n"
     ]
    }
   ],
   "source": [
    "is_numeric = lambda s: s.isdigit()\n",
    "print(is_numeric(\"123\"))  # True"
   ]
  },
  {
   "cell_type": "code",
   "execution_count": null,
   "id": "aafbe506-f095-43a8-b502-8a714d4aa512",
   "metadata": {},
   "outputs": [],
   "source": [
    "# Sort a list of tuples having fruit names and their quantity:"
   ]
  },
  {
   "cell_type": "code",
   "execution_count": 16,
   "id": "ed79f0bb-7aef-4a87-81ed-9a44dfc0b9ce",
   "metadata": {},
   "outputs": [
    {
     "name": "stdout",
     "output_type": "stream",
     "text": [
      "[('grapes', 1000), ('mango', 99), ('orange', 80)]\n"
     ]
    }
   ],
   "source": [
    "fruits = [(\"mango\",99),(\"orange\",80), (\"grapes\", 1000)]\n",
    "sorted_fruits = sorted(fruits, key=lambda x: x[1], reverse=True)\n",
    "print(sorted_fruits)"
   ]
  },
  {
   "cell_type": "code",
   "execution_count": null,
   "id": "77555e29-bce3-453b-b2d4-b9c1c6790222",
   "metadata": {},
   "outputs": [],
   "source": [
    "# Find the squares of numbers from 1 to 10:"
   ]
  },
  {
   "cell_type": "code",
   "execution_count": 17,
   "id": "88626c83-89d2-4226-b573-d13653a2c1f6",
   "metadata": {},
   "outputs": [
    {
     "name": "stdout",
     "output_type": "stream",
     "text": [
      "[1, 4, 9, 16, 25, 36, 49, 64, 81, 100]\n"
     ]
    }
   ],
   "source": [
    "squares = list(map(lambda x: x**2, range(1, 11)))\n",
    "print(squares)"
   ]
  },
  {
   "cell_type": "code",
   "execution_count": null,
   "id": "2253f846-a51b-49f5-9cdb-90ea92e5d224",
   "metadata": {},
   "outputs": [],
   "source": [
    "# Find the cube root of numbers from 1 to 10."
   ]
  },
  {
   "cell_type": "code",
   "execution_count": 18,
   "id": "9bcda501-68e7-4b1b-9fc1-133c87ddba5e",
   "metadata": {},
   "outputs": [
    {
     "name": "stdout",
     "output_type": "stream",
     "text": [
      "[1, 1, 1, 2, 2, 2, 2, 2, 2, 2]\n"
     ]
    }
   ],
   "source": [
    "cube_roots = list(map(lambda x: round(x**(1/3)), range(1, 11)))\n",
    "print(cube_roots)"
   ]
  },
  {
   "cell_type": "code",
   "execution_count": null,
   "id": "777a9ef8-59c1-4c6f-99d8-6046bc8d5cbe",
   "metadata": {},
   "outputs": [],
   "source": [
    "# Check if a given number is even."
   ]
  },
  {
   "cell_type": "code",
   "execution_count": 19,
   "id": "525583cc-282f-4e2b-b83c-1a912ad03cc9",
   "metadata": {},
   "outputs": [
    {
     "name": "stdout",
     "output_type": "stream",
     "text": [
      "True\n"
     ]
    }
   ],
   "source": [
    "is_even = lambda x: x % 2 == 0\n",
    "print(is_even(4))  # True"
   ]
  },
  {
   "cell_type": "code",
   "execution_count": null,
   "id": "b3950194-764f-4811-bd9f-73139416fa6b",
   "metadata": {},
   "outputs": [],
   "source": [
    "# Filter odd numbers from the given list. [1,2,3,4,5,6,7,8,9,10]"
   ]
  },
  {
   "cell_type": "code",
   "execution_count": 20,
   "id": "baab9c39-6e6c-4a94-ae28-a41c841373c2",
   "metadata": {},
   "outputs": [
    {
     "name": "stdout",
     "output_type": "stream",
     "text": [
      "[1, 3, 5, 7, 9]\n"
     ]
    }
   ],
   "source": [
    "filter_odd = filter(lambda x: x % 2 != 0, [1,2,3,4,5,6,7,8,9,10])\n",
    "print(list(filter_odd))"
   ]
  },
  {
   "cell_type": "code",
   "execution_count": null,
   "id": "1175e062-c6db-4b1f-b8cb-898a7c62b28d",
   "metadata": {},
   "outputs": [],
   "source": [
    "# 8 Sort a list of integers into positive and negative integers lists. [1,2,3,4,5,6,-1,-2,-3,-4,-5,0]"
   ]
  },
  {
   "cell_type": "code",
   "execution_count": 21,
   "id": "e2f789b4-d400-4dc1-a332-5d91ff2c7e88",
   "metadata": {},
   "outputs": [
    {
     "name": "stdout",
     "output_type": "stream",
     "text": [
      "[1, 2, 3, 4, 5, 6] [-1, -2, -3, -4, -5]\n"
     ]
    }
   ],
   "source": [
    "positive = list(filter(lambda x: x > 0, [1,2,3,4,5,6,-1,-2,-3,-4,-5,0]))\n",
    "negative = list(filter(lambda x: x < 0, [1,2,3,4,5,6,-1,-2,-3,-4,-5,0]))\n",
    "print(positive, negative)\n"
   ]
  },
  {
   "cell_type": "code",
   "execution_count": null,
   "id": "f118ff4c-45be-4b34-8b6c-94a0389a08dd",
   "metadata": {},
   "outputs": [],
   "source": []
  }
 ],
 "metadata": {
  "kernelspec": {
   "display_name": "Python 3 (ipykernel)",
   "language": "python",
   "name": "python3"
  },
  "language_info": {
   "codemirror_mode": {
    "name": "ipython",
    "version": 3
   },
   "file_extension": ".py",
   "mimetype": "text/x-python",
   "name": "python",
   "nbconvert_exporter": "python",
   "pygments_lexer": "ipython3",
   "version": "3.10.8"
  }
 },
 "nbformat": 4,
 "nbformat_minor": 5
}
